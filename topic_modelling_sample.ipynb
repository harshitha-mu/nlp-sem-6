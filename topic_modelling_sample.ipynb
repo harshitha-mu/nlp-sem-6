{
 "cells": [
  {
   "cell_type": "code",
   "execution_count": 15,
   "id": "e6bd8232",
   "metadata": {},
   "outputs": [
    {
     "name": "stdout",
     "output_type": "stream",
     "text": [
      "Collecting gensim\n",
      "  Downloading gensim-4.1.2-cp38-cp38-win_amd64.whl (24.0 MB)\n",
      "Requirement already satisfied: Cython==0.29.23 in c:\\users\\sahay\\anaconda3\\lib\\site-packages (from gensim) (0.29.23)\n",
      "Requirement already satisfied: scipy>=0.18.1 in c:\\users\\sahay\\anaconda3\\lib\\site-packages (from gensim) (1.6.2)\n",
      "Collecting smart-open>=1.8.1\n",
      "  Downloading smart_open-5.2.1-py3-none-any.whl (58 kB)\n",
      "Requirement already satisfied: numpy>=1.17.0 in c:\\users\\sahay\\anaconda3\\lib\\site-packages (from gensim) (1.19.5)\n",
      "Installing collected packages: smart-open, gensim\n",
      "Successfully installed gensim-4.1.2 smart-open-5.2.1\n"
     ]
    }
   ],
   "source": [
    "!pip install gensim"
   ]
  },
  {
   "cell_type": "code",
   "execution_count": 57,
   "id": "51b6ca30",
   "metadata": {},
   "outputs": [
    {
     "name": "stdout",
     "output_type": "stream",
     "text": [
      "Collecting pyldavis\n",
      "  Using cached pyLDAvis-3.3.1-py2.py3-none-any.whl\n",
      "Requirement already satisfied: jinja2 in c:\\users\\sahay\\anaconda3\\lib\\site-packages (from pyldavis) (2.11.3)\n",
      "Collecting sklearn\n",
      "  Using cached sklearn-0.0-py2.py3-none-any.whl\n",
      "Requirement already satisfied: numexpr in c:\\users\\sahay\\anaconda3\\lib\\site-packages (from pyldavis) (2.7.3)\n",
      "Requirement already satisfied: setuptools in c:\\users\\sahay\\anaconda3\\lib\\site-packages (from pyldavis) (57.4.0)\n",
      "Requirement already satisfied: numpy>=1.20.0 in c:\\users\\sahay\\anaconda3\\lib\\site-packages (from pyldavis) (1.22.2)\n",
      "Requirement already satisfied: pandas>=1.2.0 in c:\\users\\sahay\\anaconda3\\lib\\site-packages (from pyldavis) (1.2.4)\n",
      "Requirement already satisfied: scipy in c:\\users\\sahay\\anaconda3\\lib\\site-packages (from pyldavis) (1.6.2)\n",
      "Requirement already satisfied: future in c:\\users\\sahay\\anaconda3\\lib\\site-packages (from pyldavis) (0.18.2)\n",
      "Requirement already satisfied: gensim in c:\\users\\sahay\\anaconda3\\lib\\site-packages (from pyldavis) (4.1.2)\n",
      "Requirement already satisfied: scikit-learn in c:\\users\\sahay\\anaconda3\\lib\\site-packages (from pyldavis) (0.24.1)\n",
      "Requirement already satisfied: joblib in c:\\users\\sahay\\anaconda3\\lib\\site-packages (from pyldavis) (1.0.1)\n",
      "Collecting funcy\n",
      "  Using cached funcy-1.17-py2.py3-none-any.whl (33 kB)\n",
      "Requirement already satisfied: python-dateutil>=2.7.3 in c:\\users\\sahay\\anaconda3\\lib\\site-packages (from pandas>=1.2.0->pyldavis) (2.8.1)\n",
      "Requirement already satisfied: pytz>=2017.3 in c:\\users\\sahay\\anaconda3\\lib\\site-packages (from pandas>=1.2.0->pyldavis) (2021.1)\n",
      "Requirement already satisfied: six>=1.5 in c:\\users\\sahay\\anaconda3\\lib\\site-packages (from python-dateutil>=2.7.3->pandas>=1.2.0->pyldavis) (1.15.0)\n",
      "Requirement already satisfied: smart-open>=1.8.1 in c:\\users\\sahay\\anaconda3\\lib\\site-packages (from gensim->pyldavis) (5.2.1)\n",
      "Requirement already satisfied: Cython==0.29.23 in c:\\users\\sahay\\anaconda3\\lib\\site-packages (from gensim->pyldavis) (0.29.23)\n",
      "Requirement already satisfied: MarkupSafe>=0.23 in c:\\users\\sahay\\anaconda3\\lib\\site-packages (from jinja2->pyldavis) (1.1.1)\n",
      "Requirement already satisfied: threadpoolctl>=2.0.0 in c:\\users\\sahay\\anaconda3\\lib\\site-packages (from scikit-learn->pyldavis) (2.1.0)\n",
      "Installing collected packages: sklearn, funcy, pyldavis\n",
      "Successfully installed funcy-1.17 pyldavis-3.3.1 sklearn-0.0\n"
     ]
    }
   ],
   "source": [
    "!pip install pyldavis"
   ]
  },
  {
   "cell_type": "code",
   "execution_count": 18,
   "id": "4c84feeb",
   "metadata": {},
   "outputs": [],
   "source": [
    "import pandas as pd\n",
    "import nltk\n",
    "from nltk.corpus import stopwords\n",
    "from nltk.tokenize import word_tokenize\n",
    "from nltk.stem import WordNetLemmatizer\n",
    "from string import punctuation\n",
    "\n",
    "import gensim\n",
    "from gensim.utils import simple_preprocess\n",
    "from gensim.parsing.preprocessing import STOPWORDS\n",
    "\n",
    "import re"
   ]
  },
  {
   "cell_type": "code",
   "execution_count": 10,
   "id": "fcc93e8d",
   "metadata": {},
   "outputs": [
    {
     "data": {
      "text/html": [
       "<div>\n",
       "<style scoped>\n",
       "    .dataframe tbody tr th:only-of-type {\n",
       "        vertical-align: middle;\n",
       "    }\n",
       "\n",
       "    .dataframe tbody tr th {\n",
       "        vertical-align: top;\n",
       "    }\n",
       "\n",
       "    .dataframe thead th {\n",
       "        text-align: right;\n",
       "    }\n",
       "</style>\n",
       "<table border=\"1\" class=\"dataframe\">\n",
       "  <thead>\n",
       "    <tr style=\"text-align: right;\">\n",
       "      <th></th>\n",
       "      <th>id</th>\n",
       "      <th>year</th>\n",
       "      <th>title</th>\n",
       "      <th>event_type</th>\n",
       "      <th>pdf_name</th>\n",
       "      <th>abstract</th>\n",
       "      <th>paper_text</th>\n",
       "    </tr>\n",
       "  </thead>\n",
       "  <tbody>\n",
       "    <tr>\n",
       "      <th>0</th>\n",
       "      <td>1</td>\n",
       "      <td>1987</td>\n",
       "      <td>Self-Organization of Associative Database and ...</td>\n",
       "      <td>NaN</td>\n",
       "      <td>1-self-organization-of-associative-database-an...</td>\n",
       "      <td>Abstract Missing</td>\n",
       "      <td>767\\n\\nSELF-ORGANIZATION OF ASSOCIATIVE DATABA...</td>\n",
       "    </tr>\n",
       "    <tr>\n",
       "      <th>1</th>\n",
       "      <td>10</td>\n",
       "      <td>1987</td>\n",
       "      <td>A Mean Field Theory of Layer IV of Visual Cort...</td>\n",
       "      <td>NaN</td>\n",
       "      <td>10-a-mean-field-theory-of-layer-iv-of-visual-c...</td>\n",
       "      <td>Abstract Missing</td>\n",
       "      <td>683\\n\\nA MEAN FIELD THEORY OF LAYER IV OF VISU...</td>\n",
       "    </tr>\n",
       "    <tr>\n",
       "      <th>2</th>\n",
       "      <td>100</td>\n",
       "      <td>1988</td>\n",
       "      <td>Storing Covariance by the Associative Long-Ter...</td>\n",
       "      <td>NaN</td>\n",
       "      <td>100-storing-covariance-by-the-associative-long...</td>\n",
       "      <td>Abstract Missing</td>\n",
       "      <td>394\\n\\nSTORING COVARIANCE BY THE ASSOCIATIVE\\n...</td>\n",
       "    </tr>\n",
       "    <tr>\n",
       "      <th>3</th>\n",
       "      <td>1000</td>\n",
       "      <td>1994</td>\n",
       "      <td>Bayesian Query Construction for Neural Network...</td>\n",
       "      <td>NaN</td>\n",
       "      <td>1000-bayesian-query-construction-for-neural-ne...</td>\n",
       "      <td>Abstract Missing</td>\n",
       "      <td>Bayesian Query Construction for Neural\\nNetwor...</td>\n",
       "    </tr>\n",
       "    <tr>\n",
       "      <th>4</th>\n",
       "      <td>1001</td>\n",
       "      <td>1994</td>\n",
       "      <td>Neural Network Ensembles, Cross Validation, an...</td>\n",
       "      <td>NaN</td>\n",
       "      <td>1001-neural-network-ensembles-cross-validation...</td>\n",
       "      <td>Abstract Missing</td>\n",
       "      <td>Neural Network Ensembles, Cross\\nValidation, a...</td>\n",
       "    </tr>\n",
       "  </tbody>\n",
       "</table>\n",
       "</div>"
      ],
      "text/plain": [
       "     id  year                                              title event_type  \\\n",
       "0     1  1987  Self-Organization of Associative Database and ...        NaN   \n",
       "1    10  1987  A Mean Field Theory of Layer IV of Visual Cort...        NaN   \n",
       "2   100  1988  Storing Covariance by the Associative Long-Ter...        NaN   \n",
       "3  1000  1994  Bayesian Query Construction for Neural Network...        NaN   \n",
       "4  1001  1994  Neural Network Ensembles, Cross Validation, an...        NaN   \n",
       "\n",
       "                                            pdf_name          abstract  \\\n",
       "0  1-self-organization-of-associative-database-an...  Abstract Missing   \n",
       "1  10-a-mean-field-theory-of-layer-iv-of-visual-c...  Abstract Missing   \n",
       "2  100-storing-covariance-by-the-associative-long...  Abstract Missing   \n",
       "3  1000-bayesian-query-construction-for-neural-ne...  Abstract Missing   \n",
       "4  1001-neural-network-ensembles-cross-validation...  Abstract Missing   \n",
       "\n",
       "                                          paper_text  \n",
       "0  767\\n\\nSELF-ORGANIZATION OF ASSOCIATIVE DATABA...  \n",
       "1  683\\n\\nA MEAN FIELD THEORY OF LAYER IV OF VISU...  \n",
       "2  394\\n\\nSTORING COVARIANCE BY THE ASSOCIATIVE\\n...  \n",
       "3  Bayesian Query Construction for Neural\\nNetwor...  \n",
       "4  Neural Network Ensembles, Cross\\nValidation, a...  "
      ]
     },
     "execution_count": 10,
     "metadata": {},
     "output_type": "execute_result"
    }
   ],
   "source": [
    "data=pd.read_csv('papers.csv')\n",
    "data.head()"
   ]
  },
  {
   "cell_type": "code",
   "execution_count": 36,
   "id": "9c431923",
   "metadata": {},
   "outputs": [],
   "source": [
    "def prepare_data(df):\n",
    "    data=df['paper_text']\n",
    "    useless_words=list(stopwords.words('english')+list(punctuation))\n",
    "    \n",
    "    lemmatizer=WordNetLemmatizer()\n",
    "    corpus=data.tolist()\n",
    "    final_corpus=[]\n",
    "    \n",
    "    for i in range(len(corpus)):\n",
    "        word=word_tokenize(corpus[i].lower())\n",
    "        word=[\n",
    "            lemmatizer.lemmatize(y) for y in word if y not in useless_words\n",
    "        ]\n",
    "        j=\" \".join(word)\n",
    "        j=re.sub(r'[^\\w\\s]', \" \", j)\n",
    "        j=re.sub(\"(^|\\W)\\d+\",\" \",j)\n",
    "        \n",
    "        final_corpus.append(j)\n",
    "    \n",
    "    return final_corpus"
   ]
  },
  {
   "cell_type": "code",
   "execution_count": 37,
   "id": "d777bda7",
   "metadata": {},
   "outputs": [
    {
     "data": {
      "text/html": [
       "<div>\n",
       "<style scoped>\n",
       "    .dataframe tbody tr th:only-of-type {\n",
       "        vertical-align: middle;\n",
       "    }\n",
       "\n",
       "    .dataframe tbody tr th {\n",
       "        vertical-align: top;\n",
       "    }\n",
       "\n",
       "    .dataframe thead th {\n",
       "        text-align: right;\n",
       "    }\n",
       "</style>\n",
       "<table border=\"1\" class=\"dataframe\">\n",
       "  <thead>\n",
       "    <tr style=\"text-align: right;\">\n",
       "      <th></th>\n",
       "      <th>id</th>\n",
       "      <th>content</th>\n",
       "    </tr>\n",
       "  </thead>\n",
       "  <tbody>\n",
       "    <tr>\n",
       "      <th>0</th>\n",
       "      <td>1</td>\n",
       "      <td>self organization associative database appli...</td>\n",
       "    </tr>\n",
       "    <tr>\n",
       "      <th>1</th>\n",
       "      <td>10</td>\n",
       "      <td>mean field theory layer iv visual cortex app...</td>\n",
       "    </tr>\n",
       "    <tr>\n",
       "      <th>2</th>\n",
       "      <td>100</td>\n",
       "      <td>storing covariance associative long term pot...</td>\n",
       "    </tr>\n",
       "    <tr>\n",
       "      <th>3</th>\n",
       "      <td>1000</td>\n",
       "      <td>bayesian query construction neural network mod...</td>\n",
       "    </tr>\n",
       "    <tr>\n",
       "      <th>4</th>\n",
       "      <td>1001</td>\n",
       "      <td>neural network ensemble cross validation activ...</td>\n",
       "    </tr>\n",
       "  </tbody>\n",
       "</table>\n",
       "</div>"
      ],
      "text/plain": [
       "     id                                            content\n",
       "0     1    self organization associative database appli...\n",
       "1    10    mean field theory layer iv visual cortex app...\n",
       "2   100    storing covariance associative long term pot...\n",
       "3  1000  bayesian query construction neural network mod...\n",
       "4  1001  neural network ensemble cross validation activ..."
      ]
     },
     "execution_count": 37,
     "metadata": {},
     "output_type": "execute_result"
    }
   ],
   "source": [
    "final_corpus=prepare_data(data)\n",
    "\n",
    "id_=data['id']\n",
    "train_df={\n",
    "    'id':id_,\n",
    "    'content':final_corpus,\n",
    "}\n",
    "\n",
    "train_df=pd.DataFrame(train_df)\n",
    "train_df.head()"
   ]
  },
  {
   "cell_type": "code",
   "execution_count": 38,
   "id": "2ac8aead",
   "metadata": {},
   "outputs": [],
   "source": [
    "final_data=train_df['content'].map(word_tokenize)"
   ]
  },
  {
   "cell_type": "code",
   "execution_count": 39,
   "id": "4979499c",
   "metadata": {},
   "outputs": [
    {
     "data": {
      "text/plain": [
       "0    [self, organization, associative, database, ap...\n",
       "1    [mean, field, theory, layer, iv, visual, corte...\n",
       "2    [storing, covariance, associative, long, term,...\n",
       "3    [bayesian, query, construction, neural, networ...\n",
       "4    [neural, network, ensemble, cross, validation,...\n",
       "5    [u, sing, neural, net, instantiate, deformable...\n",
       "6    [plasticity, mediated, competitive, learning, ...\n",
       "7    [iceg, morphology, classification, using, anal...\n",
       "8    [real, time, control, tokamak, plasma, using, ...\n",
       "9    [real, time, control, tokamak, plasma, using, ...\n",
       "Name: content, dtype: object"
      ]
     },
     "execution_count": 39,
     "metadata": {},
     "output_type": "execute_result"
    }
   ],
   "source": [
    "final_data[:10]"
   ]
  },
  {
   "cell_type": "code",
   "execution_count": 40,
   "id": "8ba285b3",
   "metadata": {},
   "outputs": [],
   "source": [
    "dictionary = gensim.corpora.Dictionary(final_data)"
   ]
  },
  {
   "cell_type": "code",
   "execution_count": 41,
   "id": "5c1d94c9",
   "metadata": {},
   "outputs": [
    {
     "name": "stdout",
     "output_type": "stream",
     "text": [
      "0 _l\n",
      "1 a\n",
      "2 abolish\n",
      "3 abstract\n",
      "4 accelerate\n",
      "5 acceptable\n",
      "6 accomplishes\n",
      "7 accordingly\n",
      "8 achieve\n",
      "9 achieved\n",
      "10 actual\n"
     ]
    }
   ],
   "source": [
    "count = 0\n",
    "for k, v in dictionary.iteritems():\n",
    "    print(k, v)\n",
    "    count += 1\n",
    "    if count > 10:\n",
    "        break"
   ]
  },
  {
   "cell_type": "code",
   "execution_count": 42,
   "id": "e9b6c6a5",
   "metadata": {},
   "outputs": [],
   "source": [
    "dictionary.filter_extremes(no_below=15, no_above=0.5, keep_n=100000)"
   ]
  },
  {
   "cell_type": "code",
   "execution_count": 43,
   "id": "7fd6fd54",
   "metadata": {},
   "outputs": [],
   "source": [
    "bow_corpus = [dictionary.doc2bow(doc) for doc in final_data]"
   ]
  },
  {
   "cell_type": "code",
   "execution_count": 45,
   "id": "795d755e",
   "metadata": {},
   "outputs": [],
   "source": [
    "from gensim import corpora, models\n",
    "\n",
    "tfidf = models.TfidfModel(bow_corpus)\n",
    "corpus_tfidf = tfidf[bow_corpus]"
   ]
  },
  {
   "cell_type": "code",
   "execution_count": 48,
   "id": "a1105445",
   "metadata": {},
   "outputs": [],
   "source": [
    "lda_model_tfidf = gensim.models.LdaMulticore(corpus_tfidf, num_topics=10, id2word=dictionary, passes=2, workers=4)"
   ]
  },
  {
   "cell_type": "code",
   "execution_count": 53,
   "id": "1710d588",
   "metadata": {},
   "outputs": [
    {
     "name": "stdout",
     "output_type": "stream",
     "text": [
      "\n",
      "Score: 0.5169695615768433\t \n",
      "Topic: 0.002*\"neuron\" + 0.002*\"image\" + 0.002*\"layer\" + 0.001*\"spike\" + 0.001*\"cell\" + 0.001*\"unit\" + 0.001*\"stimulus\" + 0.001*\"saliency\" + 0.001*\"activity\" + 0.001*\"object\"\n",
      "\n",
      "Score: 0.3426755964756012\t \n",
      "Topic: 0.002*\"neuron\" + 0.002*\"spike\" + 0.002*\"kernel\" + 0.001*\"policy\" + 0.001*\"image\" + 0.001*\"stimulus\" + 0.001*\"classifier\" + 0.001*\"cell\" + 0.001*\"response\" + 0.001*\"synaptic\"\n",
      "\n",
      "Score: 0.11794827878475189\t \n",
      "Topic: 0.002*\"neuron\" + 0.001*\"image\" + 0.001*\"spike\" + 0.001*\"trajectory\" + 0.001*\"cell\" + 0.001*\"stimulus\" + 0.001*\"layer\" + 0.001*\"kernel\" + 0.001*\"node\" + 0.001*\"object\"\n",
      "\n",
      "Score: 0.021962951868772507\t \n",
      "Topic: 0.002*\"neuron\" + 0.002*\"spike\" + 0.001*\"kernel\" + 0.001*\"circuit\" + 0.001*\"cell\" + 0.001*\"image\" + 0.001*\"xt\" + 0.001*\"stimulus\" + 0.001*\"chip\" + 0.001*\"classifier\"\n"
     ]
    }
   ],
   "source": [
    "for index, score in sorted(lda_model_tfidf[bow_corpus[2]], key=lambda tup: -1*tup[1]):\n",
    "    print(\"\\nScore: {}\\t \\nTopic: {}\".format(score, lda_model_tfidf.print_topic(index, 10)))"
   ]
  },
  {
   "cell_type": "code",
   "execution_count": null,
   "id": "0b2c4335",
   "metadata": {},
   "outputs": [],
   "source": []
  }
 ],
 "metadata": {
  "kernelspec": {
   "display_name": "Python 3",
   "language": "python",
   "name": "python3"
  },
  "language_info": {
   "codemirror_mode": {
    "name": "ipython",
    "version": 3
   },
   "file_extension": ".py",
   "mimetype": "text/x-python",
   "name": "python",
   "nbconvert_exporter": "python",
   "pygments_lexer": "ipython3",
   "version": "3.8.8"
  }
 },
 "nbformat": 4,
 "nbformat_minor": 5
}
